{
  "cells": [
    {
      "cell_type": "markdown",
      "source": [
        "Task 1 Part 1\n",
        "\n",
        "Generate matrices with help of randint"
      ],
      "metadata": {
        "id": "J3s4syJ5NVfm"
      }
    },
    {
      "cell_type": "code",
      "source": [
        "# Import Numpy\n",
        "import numpy as np\n",
        "# Define the 4 matrices as A,B,C,D\n",
        "A = np.random.randint(1,10,(2,3))\n",
        "B = np.random.randint(1,10,(3,5))\n",
        "C = np.random.randint(1,10,(5,2))\n",
        "D = np.random.randint(1,10,(3,3))\n",
        "# Print the 4 matrices\n",
        "print(A)\n",
        "print(B)\n",
        "print(C)\n",
        "print(D)\n",
        "# Find the Dot Product of matrices\n",
        "E = np.dot(A,B)\n",
        "F = np.dot(B,C)\n",
        "#can't print invalid matrices\n",
        "#G = np.dot(C,D)\n",
        "#H = np.dot(D,A)\n",
        "print(E)\n",
        "print(F)\n",
        "#print(G)\n",
        "#print(H)"
      ],
      "metadata": {
        "colab": {
          "base_uri": "https://localhost:8080/"
        },
        "id": "nqYKM3c3N3BF",
        "outputId": "80af823c-2add-470e-939e-fc538d7d65c1"
      },
      "execution_count": 1,
      "outputs": [
        {
          "output_type": "stream",
          "name": "stdout",
          "text": [
            "[[9 9 2]\n",
            " [3 4 6]]\n",
            "[[1 9 4 1 8]\n",
            " [8 2 7 5 4]\n",
            " [2 1 3 8 1]]\n",
            "[[7 6]\n",
            " [8 8]\n",
            " [2 4]\n",
            " [4 6]\n",
            " [8 8]]\n",
            "[[6 3 3]\n",
            " [2 6 9]\n",
            " [4 2 7]]\n",
            "[[ 85 101 105  70 110]\n",
            " [ 47  41  58  71  46]]\n",
            "[[155 164]\n",
            " [138 154]\n",
            " [ 68  88]]\n"
          ]
        }
      ]
    },
    {
      "cell_type": "markdown",
      "source": [
        "Task 1 part 2\n",
        "\n",
        "Use shape tuple to access column and row number of matrices to check if dot product is possible.**bold text**"
      ],
      "metadata": {
        "id": "XAhbhhkIOgOQ"
      }
    },
    {
      "cell_type": "code",
      "source": [
        "def is_compatible(A, B):\n",
        "  if(A.shape[1]==B.shape[0]):\n",
        "      print(np.dot(A,B))\n",
        "      return\n",
        "  else:\n",
        "    print(\"Dimension Error!\")\n",
        "# Find Dot product only if the matrices are compatible\n",
        "is_compatible(A,B)\n",
        "is_compatible(B,C)\n",
        "is_compatible(C,D)\n",
        "is_compatible(D,A)"
      ],
      "metadata": {
        "colab": {
          "base_uri": "https://localhost:8080/"
        },
        "id": "XG-Wigc8OrQo",
        "outputId": "12454375-11b3-4f8b-d8a1-a1fa2b00bef4"
      },
      "execution_count": 2,
      "outputs": [
        {
          "output_type": "stream",
          "name": "stdout",
          "text": [
            "[[ 85 101 105  70 110]\n",
            " [ 47  41  58  71  46]]\n",
            "[[155 164]\n",
            " [138 154]\n",
            " [ 68  88]]\n",
            "Dimension Error!\n",
            "Dimension Error!\n"
          ]
        }
      ]
    },
    {
      "cell_type": "markdown",
      "source": [
        "Task 2\n",
        "\n",
        "Input number of rounds and call function\n",
        "Use while loop to check number of rounds left\n",
        "input user's choice.\n",
        "Use modulo 12 to ensure proper input\n",
        "Randomize computers output using randint from numpy\n",
        "use if else for scoring\n",
        "break if points>=30 or <=-30\n"
      ],
      "metadata": {
        "id": "ZIwMYQusQJSn"
      }
    },
    {
      "cell_type": "code",
      "source": [
        "def up_down(rounds):\n",
        "  points=0\n",
        "  while(rounds>0):\n",
        "    usernum=input(\"Enter a number between 1 and 12(inclusive)\")\n",
        "    usernum = int(usernum)%12\n",
        "    compnum = np.random.randint(1,13)\n",
        "    if(compnum>7):\n",
        "      if(usernum>7):points+=usernum\n",
        "      else:points-=usernum\n",
        "    elif(compnum<7):\n",
        "      if(usernum<7):points+=usernum\n",
        "      else:points-=usernum\n",
        "    else:\n",
        "      if(usernum==7):points+=14\n",
        "      else:points-=usernum\n",
        "    if(points>=30):break\n",
        "    elif(points<=-30):break\n",
        "    rounds=rounds-1\n",
        "\n",
        "  print(points)\n",
        "  if(points>=30):print(\"You won!\")\n",
        "  elif(points<=-30):print(\"You lost!\")\n",
        "  else: print(\"You did well\")\n",
        "\n",
        "roundnum = input(\"Enter number of rounds\")\n",
        "up_down(int(roundnum))"
      ],
      "metadata": {
        "colab": {
          "base_uri": "https://localhost:8080/"
        },
        "id": "EGusxPb4UKpN",
        "outputId": "f411a4ef-cd52-43db-e749-0ab12499bcea"
      },
      "execution_count": 4,
      "outputs": [
        {
          "output_type": "stream",
          "name": "stdout",
          "text": [
            "Enter number of rounds3\n",
            "Enter a number between 1 and 12(inclusive)1\n",
            "Enter a number between 1 and 12(inclusive)1\n",
            "Enter a number between 1 and 12(inclusive)2\n",
            "4\n",
            "You did well\n"
          ]
        }
      ]
    }
  ],
  "metadata": {
    "colab": {
      "provenance": []
    },
    "kernelspec": {
      "display_name": "Python 3",
      "name": "python3"
    },
    "language_info": {
      "name": "python"
    }
  },
  "nbformat": 4,
  "nbformat_minor": 0
}