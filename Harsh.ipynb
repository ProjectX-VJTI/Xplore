{ 
   "cells": [ 
     { 
       "cell_type": "markdown", 
       "metadata": { 
         "id": "6LkPygla_OXh" 
       }, 
       "source": [ 
         "# **Task 1**\n", 
         "\n", 
         "Your goal is to find the answer of the dot product of the matrices of sizes (2,3), (3,5), (5,2) and (3,3).\n", 
         "\n", 
         "## **Workflow:**\n", 
         "1. Define the matrices of given sizes.\n", 
         "2. Print the matrices.\n", 
         "3. Use the np.dot function.\n", 
         "4. Print the output at each step.\n", 
         "5. Print the result.\n", 
         "\n", 
         "(Print the shape of matrix always with the matrix)\n" 
       ] 
     }, 
     { 
       "cell_type": "code", 
       "execution_count": null, 
       "metadata": { 
         "id": "Z8iSVv-r_WkT" 
       }, 
       "outputs": [], 
       "source": [ 
         "# Import Numpy\n", 
         "import numpy as np" 
       ] 
     }, 
     { 
       "cell_type": "code", 
       "execution_count": null, 
       "metadata": { 
         "id": "r1pVl7LbA1_I" 
       }, 
       "outputs": [], 
       "source": [ 
         "# Define the 4 matrices as A,B,C,D\n", 
         "A=np.array([[4,1,2,6,3], [5,2,2,1,6], [1,5,5,1,3]])\n", 
         "B=np.array([[1,2], [4,5], [8,2], [6,2], [9,9]])\n", 
         "C=np.array([[1,2,3], [2,1,1]])\n", 
         "D=np.array([[2,3,1], [3,1,6], [3,4,2]])" 
       ] 
     }, 
     { 
       "cell_type": "code", 
       "execution_count": null, 
       "metadata": { 
         "id": "uJHj_CbhA83b" 
       }, 
       "outputs": [], 
       "source": [ 
         "# Print the 4 matrices\n", 
         "print(\"Matrix A: \\n\", A)\n", 
         "print(\"Matrix B: \\n\", B)\n", 
         "print(\"Matrix C: \\n\", C)\n", 
         "print(\"Matrix D: \\n\", D)\n" 
       ] 
     }, 
     { 
       "cell_type": "code", 
       "execution_count": null, 
       "metadata": { 
         "id": "MDcD7tOWBMzG" 
       }, 
       "outputs": [], 
       "source": [ 
         "# Find the Dot Product of matrices\n", 
         "dot_1=np.dot(A, B)\n", 
         "print(\"Dot product of AB: \\n\", dot_1)\n", 
         "\n", 
         "dot_2=np.dot(dot_1, C)\n", 
         "print(\"Dot product of AB & C: \\n\", dot_2)\n", 
         "\n", 
         "dot_3=np.dot(dot_2, D)\n", 
         "print(\"Dot product of all the matrices is: \\n\", dot_3)\n" 
       ] 
     }, 
     { 
       "cell_type": "markdown", 
       "metadata": { 
         "id": "Rv1D09dyB0eP" 
       }, 
       "source": [ 
         "# ValueError: shapes (2,2) and (3,3) not aligned: 2 (dim 1) != 3 (dim 0)\n", 
         "\n", 
         "Now the task is to define a function named is_compatible() that takes 2 matrices as input and only allows the dot product if the condition number of **columns** in the first matrix (A) matches the number of **rows** in the second matrix (B).\n", 
         "\n", 
         "Print the ouput if condition is satisfied\n", 
         "Else print \"Dimension Error!!\"\n", 
         "\n", 
         "\n" 
       ] 
     }, 
     { 
       "cell_type": "code", 
       "execution_count": null, 
       "metadata": { 
         "id": "RmS0xS8tCjNC" 
       }, 
       "outputs": [], 
       "source": [ 
         "import numpy as np\n", 
         "\n", 
         "r1=int(input(\"Enter number of rows of matrix A: \"))\n", 
         "c1=int(input(\"Enter number of columns of matrix A: \"))   \n", 
         "\n", 
         "r2=int(input(\"Enter number of rows of matrix B: \"))\n", 
         "c2=int(input(\"Enter number of columns of matrix B: \"))\n", 
         "\n", 
         "def is_compatible():\n", 
         "    a=[]\n", 
         "    print(\"Enter elements for matrix A:\")\n", 
         "    for i in range(r1 * c1):  \n", 
         "        elementA=int(input(f\"Enter element number {i+1} of matrix A: \"))\n", 
         "        a.append(elementA)\n", 
         "\n", 
         "    b=[]\n", 
         "    print(\"Enter elements for matrix B:\")\n", 
         "    for i in range(r2 * c2):  \n", 
         "        elementB=int(input(f\"Enter element number {i+1} of matrix B: \"))\n", 
         "        b.append(elementB)\n", 
         "\n", 
         "    A=np.array(a)\n", 
         "    B=np.array(b)\n", 
         "\n", 
         "    A_new=A.reshape(r1, c1)\n", 
         "    B_new=B.reshape(r2, c2)\n", 
         "\n", 
         "    print(\"1st Matrix: \\n\", A_new)\n", 
         "    print(\"\\n\")\n", 
         "    print(\"2nd Matrix: \\n\", B_new)\n", 
         "\n", 
         "    dot_AB=np.dot(A_new, B_new)\n", 
         "    print(\"The dot product of given matrices is \\n\")\n", 
         "    print(dot_AB)\n", 
         "\n", 
         "    " 
       ] 
     }, 
     { 
       "cell_type": "code", 
       "execution_count": null, 
       "metadata": { 
         "id": "ds0XYSZ6E9nl" 
       }, 
       "outputs": [], 
       "source": [ 
         "# Find Dot product only if the matrices are compatible\n", 
         "if c1==r2:\n", 
         "    is_compatible()\n", 
         "else:\n", 
         "    print(\"Dimension Error!\") " 
       ] 
     }, 
     { 
       "cell_type": "markdown", 
       "metadata": { 
         "id": "SR_JeHeEdWOX" 
       }, 
       "source": [ 
         "# **Task 2**\n", 
         "\n", 
         "Your goal is to define a function that simulates a number-guessing game called \"Up-Down.\" The function, named up_down, should take an integer rounds as input, representing the number of turns the player gets.\n", 
         "\n", 
         "Game Rules:\n", 
         "\n", 
         "1. The player inputs a number between 1 and 12 for each round.\n", 
         "2. The computer randomly selects a number between 1 and 12.\n", 
         "3. The scoring system is as follows:\n", 
         "  \n", 
         "  a. If computer's guess is less than 7 and the player gains points equivalent to their guess if their guess is also less than 7, otherwise, they lose points equivalent to their guess.\n", 
         "  \n", 
         "  b. If computer's guess is exactly 7, the player gains 14 points if thier guess is 7, otherwise, they lose points equivalent to their guess.\n", 
         "  \n", 
         "  c. If computer's guess is greater than 7 and the player gains points equivalent to their guess if their guess is also greater than 7, otherwise, they lose points equivalent to their guess.\n", 
         "\n", 
         "4. The game continues until:\n", 
         "\n", 
         "  a. The player reaches more than 30 points, they win.\n", 
         "\n", 
         "  b. The player reaches less than -30 points, they lose.\n", 
         "\n", 
         "  c. The maximum number of rounds is reached.\n", 
         "  \n", 
         "At the end of the game, the function should print the final score.\n", 
         "\n", 
         "Your task is to implement this function in Python using the given rules." 
       ] 
     }, 
     { 
       "cell_type": "code", 
       "execution_count": null, 
       "metadata": { 
         "id": "0fxnUDma7aPx" 
       }, 
       "outputs": [], 
       "source": [ 
         "import numpy as np\n", 
         "rounds=int(input(\"Number of rounds you want to play? \\n\"))\n", 
         "def up_down(rounds):\n", 
         "  # B = int(np.random.rand() * 12) + 1\n", 
         "  points=0\n", 
         "  \n", 
         "  for i in range(rounds):\n", 
         "    print(f\"\\nRound {i+1}:\")\n", 
         "    A = int(input(\"Enter a number between 1 and 12: \"))\n", 
         "    B = int(np.random.rand() * 12) + 1\n", 
         "    if B<7 and A<7:\n", 
         "      points+=A\n", 
         "    \n", 
         "    elif B>7 and A<7:\n", 
         "      points-=A\n", 
         "    \n", 
         "    elif B>7 and A>7:\n", 
         "      points+=A\n", 
         "    \n", 
         "    elif B<7 and A>7:\n", 
         "      points-=A\n", 
         "    \n", 
         "    elif B==7 and A==7:\n", 
         "      points+=14\n", 
         "    \n", 
         "    else:\n", 
         "      points+=7\n", 
         "    \n", 
         "    print(\"Your number: \", A)\n", 
         "    print(\"Computer's guess: \", B )\n", 
         "    \n", 
         "  print(f\" \\nTotal points scored = {points}\")\n", 
         "  if points>30:\n", 
         "    print(\"CONGRATULATIONS! You've won the game.\")\n", 
         "  elif points<-30:\n", 
         "    print(\"Bad luck! You lost the game.\")\n", 
         "  else:\n", 
         "    print(\"Game Over. Maximum number of rounds reached.\")\n", 
         "  \n", 
         "up_down(rounds)\n", 
         "pass" 
       ] 
     } 
   ], 
   "metadata": { 
     "colab": { 
       "provenance": [] 
     }, 
     "kernelspec": { 
       "display_name": "Python 3", 
       "name": "python3" 
     }, 
     "language_info": { 
       "name": "python" 
     } 
   }, 
   "nbformat": 4, 
   "nbformat_minor": 0 
 }
