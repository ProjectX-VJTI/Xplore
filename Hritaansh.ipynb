{
  "nbformat": 4,
  "nbformat_minor": 0,
  "metadata": {
    "colab": {
      "provenance": []
    },
    "kernelspec": {
      "name": "python3",
      "display_name": "Python 3"
    },
    "language_info": {
      "name": "python"
    }
  },
  "cells": [
    {
      "cell_type": "markdown",
      "source": [
        "# **Task 1**\n",
        "\n",
        "Your goal is to find the answer of the dot product of the matrices of sizes (2,3), (3,5), (5,2) and (3,3).\n",
        "\n",
        "## **Workflow:**\n",
        "1. Define the matrices of given sizes.\n",
        "2. Print the matrices.\n",
        "3. Use the np.dot function.\n",
        "4. Print the output at each step.\n",
        "5. Print the result.\n",
        "\n",
        "(Print the shape of matrix always with the matrix)\n"
      ],
      "metadata": {
        "id": "6LkPygla_OXh"
      }
    },
    {
      "cell_type": "code",
      "source": [
        "# Import Numpy\n",
        "import numpy as np"
      ],
      "metadata": {
        "id": "Z8iSVv-r_WkT"
      },
      "execution_count": 1,
      "outputs": []
    },
    {
      "cell_type": "code",
      "source": [
        "# Define the 4 matrices as A,B,C,D\n",
        "A = np.random.rand(2,3)\n",
        "B = np.random.rand(3,5)\n",
        "C = np.random.rand(5,2)\n",
        "D = np.random.rand(3,3)"
      ],
      "metadata": {
        "id": "r1pVl7LbA1_I"
      },
      "execution_count": 2,
      "outputs": []
    },
    {
      "cell_type": "code",
      "source": [
        "# Print the 4 matrices\n",
        "print(A)\n",
        "print(B)\n",
        "print(C)\n",
        "print(D)"
      ],
      "metadata": {
        "id": "uJHj_CbhA83b",
        "colab": {
          "base_uri": "https://localhost:8080/"
        },
        "outputId": "232e1937-88da-4a64-ee46-5bc19b39b5a4"
      },
      "execution_count": 3,
      "outputs": [
        {
          "output_type": "stream",
          "name": "stdout",
          "text": [
            "[[0.55990055 0.92677333 0.19249822]\n",
            " [0.69069535 0.80218587 0.6807359 ]]\n",
            "[[0.65094966 0.73291959 0.20536318 0.89789855 0.12696984]\n",
            " [0.57596836 0.03633136 0.18472232 0.41366356 0.78720441]\n",
            " [0.50298327 0.32011247 0.06044384 0.81000009 0.16146095]]\n",
            "[[0.01514434 0.49000574]\n",
            " [0.1728239  0.26464342]\n",
            " [0.94653333 0.81429525]\n",
            " [0.3853504  0.21534739]\n",
            " [0.45654468 0.94735035]]\n",
            "[[0.78823107 0.95907515 0.21251292]\n",
            " [0.90862104 0.6503586  0.82905093]\n",
            " [0.93995069 0.08887474 0.01358561]]\n"
          ]
        }
      ]
    },
    {
      "cell_type": "code",
      "source": [
        "# Find the Dot Product of matrices\n",
        "E = np.dot(A,B)\n",
        "print(\"Dot Product 1 : \", E)\n",
        "F = np.dot(E,C)\n",
        "print(\"Dot Product 2 : \", F)\n",
        "G = np.dot(F,D)\n",
        "print(\"Dot Product 3 : \", G)"
      ],
      "metadata": {
        "id": "MDcD7tOWBMzG",
        "colab": {
          "base_uri": "https://localhost:8080/",
          "height": 263
        },
        "outputId": "18e82f86-c692-4260-c9c1-8aad88e2fb2c"
      },
      "execution_count": 4,
      "outputs": [
        {
          "output_type": "stream",
          "name": "stdout",
          "text": [
            "Dot Product 1 :  [[0.99508257 0.5056541  0.29781401 1.04202982 0.83173148]\n",
            " [1.25404035 0.75328071 0.33117132 1.50340555 0.82909399]]\n",
            "Dot Product 2 :  [[1.16561905 1.87626224]\n",
            " [1.42049759 2.19270593]]\n"
          ]
        },
        {
          "output_type": "error",
          "ename": "ValueError",
          "evalue": "shapes (2,2) and (3,3) not aligned: 2 (dim 1) != 3 (dim 0)",
          "traceback": [
            "\u001b[0;31m---------------------------------------------------------------------------\u001b[0m",
            "\u001b[0;31mValueError\u001b[0m                                Traceback (most recent call last)",
            "\u001b[0;32m<ipython-input-4-4b9220ffc524>\u001b[0m in \u001b[0;36m<cell line: 0>\u001b[0;34m()\u001b[0m\n\u001b[1;32m      4\u001b[0m \u001b[0mF\u001b[0m \u001b[0;34m=\u001b[0m \u001b[0mnp\u001b[0m\u001b[0;34m.\u001b[0m\u001b[0mdot\u001b[0m\u001b[0;34m(\u001b[0m\u001b[0mE\u001b[0m\u001b[0;34m,\u001b[0m\u001b[0mC\u001b[0m\u001b[0;34m)\u001b[0m\u001b[0;34m\u001b[0m\u001b[0;34m\u001b[0m\u001b[0m\n\u001b[1;32m      5\u001b[0m \u001b[0mprint\u001b[0m\u001b[0;34m(\u001b[0m\u001b[0;34m\"Dot Product 2 : \"\u001b[0m\u001b[0;34m,\u001b[0m \u001b[0mF\u001b[0m\u001b[0;34m)\u001b[0m\u001b[0;34m\u001b[0m\u001b[0;34m\u001b[0m\u001b[0m\n\u001b[0;32m----> 6\u001b[0;31m \u001b[0mG\u001b[0m \u001b[0;34m=\u001b[0m \u001b[0mnp\u001b[0m\u001b[0;34m.\u001b[0m\u001b[0mdot\u001b[0m\u001b[0;34m(\u001b[0m\u001b[0mF\u001b[0m\u001b[0;34m,\u001b[0m\u001b[0mD\u001b[0m\u001b[0;34m)\u001b[0m\u001b[0;34m\u001b[0m\u001b[0;34m\u001b[0m\u001b[0m\n\u001b[0m\u001b[1;32m      7\u001b[0m \u001b[0mprint\u001b[0m\u001b[0;34m(\u001b[0m\u001b[0;34m\"Dot Product 3 : \"\u001b[0m\u001b[0;34m,\u001b[0m \u001b[0mG\u001b[0m\u001b[0;34m)\u001b[0m\u001b[0;34m\u001b[0m\u001b[0;34m\u001b[0m\u001b[0m\n",
            "\u001b[0;31mValueError\u001b[0m: shapes (2,2) and (3,3) not aligned: 2 (dim 1) != 3 (dim 0)"
          ]
        }
      ]
    },
    {
      "cell_type": "markdown",
      "source": [
        "# ValueError: shapes (2,2) and (3,3) not aligned: 2 (dim 1) != 3 (dim 0)\n",
        "\n",
        "Now the task is to define a function named is_compatible() that takes 2 matrices as input and only allows the dot product if the condition number of **columns** in the first matrix (A) matches the number of **rows** in the second matrix (B).\n",
        "\n",
        "Print the ouput if condition is satisfied\n",
        "Else print \"Dimension Error!!\"\n",
        "\n",
        "\n"
      ],
      "metadata": {
        "id": "Rv1D09dyB0eP"
      }
    },
    {
      "cell_type": "code",
      "source": [
        "def is_compatible(A, B):\n",
        "  pass"
      ],
      "metadata": {
        "id": "RmS0xS8tCjNC"
      },
      "execution_count": null,
      "outputs": []
    },
    {
      "cell_type": "code",
      "source": [
        "# Find Dot product only if the matrices are compatible"
      ],
      "metadata": {
        "id": "ds0XYSZ6E9nl"
      },
      "execution_count": null,
      "outputs": []
    },
    {
      "cell_type": "markdown",
      "source": [
        "# **Task 2**\n",
        "\n",
        "Your goal is to define a function that simulates a number-guessing game called \"Up-Down.\" The function, named up_down, should take an integer rounds as input, representing the number of turns the player gets.\n",
        "\n",
        "Game Rules:\n",
        "\n",
        "1. The player inputs a number between 1 and 12 for each round.\n",
        "2. The computer randomly selects a number between 1 and 12.\n",
        "3. The scoring system is as follows:\n",
        "  \n",
        "  a. If computer's guess is less than 7 and the player gains points equivalent to their guess if their guess is also less than 7, otherwise, they lose points equivalent to their guess.\n",
        "  \n",
        "  b. If computer's guess is exactly 7, the player gains 14 points if thier guess is 7, otherwise, they lose points equivalent to their guess.\n",
        "  \n",
        "  c. If computer's guess is greater than 7 and the player gains points equivalent to their guess if their guess is also greater than 7, otherwise, they lose points equivalent to their guess.\n",
        "\n",
        "4. The game continues until:\n",
        "\n",
        "  a. The player reaches more than 30 points, they win.\n",
        "\n",
        "  b. The player reaches less than -30 points, they lose.\n",
        "\n",
        "  c. The maximum number of rounds is reached.\n",
        "  \n",
        "At the end of the game, the function should print the final score.\n",
        "\n",
        "Your task is to implement this function in Python using the given rules."
      ],
      "metadata": {
        "id": "SR_JeHeEdWOX"
      }
    },
    {
      "cell_type": "code",
      "source": [
        "def up_down(rounds):\n",
        "  pass"
      ],
      "metadata": {
        "id": "0fxnUDma7aPx"
      },
      "execution_count": null,
      "outputs": []
    }
  ]
}