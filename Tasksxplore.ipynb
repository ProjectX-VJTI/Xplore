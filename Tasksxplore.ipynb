{
  "cells": [
    {
      "cell_type": "markdown",
      "metadata": {
        "id": "6LkPygla_OXh"
      },
      "source": [
        "# **Task 1**\n",
        "\n",
        "Your goal is to find the answer of the dot product of the matrices of sizes (2,3), (3,5), (5,2) and (3,3).\n",
        "\n",
        "## **Workflow:**\n",
        "1. Define the matrices of given sizes.\n",
        "2. Print the matrices.\n",
        "3. Use the np.dot function.\n",
        "4. Print the output at each step.\n",
        "5. Print the result.\n",
        "\n",
        "(Print the shape of matrix always with the matrix)\n"
      ]
    },
    {
      "cell_type": "code",
      "execution_count": 1,
      "metadata": {
        "id": "Z8iSVv-r_WkT"
      },
      "outputs": [],
      "source": [
        "# Import Numpy\n",
        "import numpy as np"
      ]
    },
    {
      "cell_type": "code",
      "execution_count": 2,
      "metadata": {
        "id": "r1pVl7LbA1_I"
      },
      "outputs": [],
      "source": [
        "# Define the 4 matrices as A,B,C,D\n",
        "A = np.random.randint(1,10,(2,3))\n",
        "B = np.random.randint(1,10,(3,5))\n",
        "C = np.random.randint(1,10,(5,2))\n",
        "D = np.random.randint(1,10,(3,3))"
      ]
    },
    {
      "cell_type": "code",
      "execution_count": 3,
      "metadata": {
        "id": "uJHj_CbhA83b"
      },
      "outputs": [
        {
          "name": "stdout",
          "output_type": "stream",
          "text": [
            "A(2X3):\n",
            "[[6 5 3]\n",
            " [6 3 8]]\n",
            "\n",
            "B(3X5):\n",
            "[[6 1 6 3 2]\n",
            " [4 6 8 6 2]\n",
            " [3 4 1 3 5]]\n",
            "\n",
            "C(5X2):\n",
            "[[6 6]\n",
            " [6 8]\n",
            " [6 7]\n",
            " [8 7]\n",
            " [2 2]]\n",
            "\n",
            "D(3X3):\n",
            "[[1 9 3]\n",
            " [9 5 5]\n",
            " [8 6 6]]\n",
            "\n"
          ]
        }
      ],
      "source": [
        "# Print the 4 matrices\n",
        "print(f\"A(2X3):\\n{A}\\n\")\n",
        "print(f\"B(3X5):\\n{B}\\n\")\n",
        "print(f\"C(5X2):\\n{C}\\n\")\n",
        "print(f\"D(3X3):\\n{D}\\n\")"
      ]
    },
    {
      "cell_type": "code",
      "execution_count": 4,
      "metadata": {
        "id": "MDcD7tOWBMzG"
      },
      "outputs": [
        {
          "name": "stdout",
          "output_type": "stream",
          "text": [
            "AB(2x5):\n",
            "[[65 48 79 57 37]\n",
            " [72 56 68 60 58]]\n",
            "\n",
            "AD(2x3):\n",
            "[[ 75  97  61]\n",
            " [ 97 117  81]]\n",
            "\n",
            "ABC(2x2):\n",
            "[[1682 1800]\n",
            " [1772 1892]]\n",
            "\n"
          ]
        }
      ],
      "source": [
        "# Find the Dot Product of matrices\n",
        "AB = np.dot(A,B)\n",
        "print(f\"AB(2x5):\\n{AB}\\n\")\n",
        "AD = np.dot(A,D)\n",
        "print(f\"AD(2x3):\\n{AD}\\n\")\n",
        "ABC = np.dot(AB,C)\n",
        "print(f\"ABC(2x2):\\n{ABC}\\n\")"
      ]
    },
    {
      "cell_type": "markdown",
      "metadata": {
        "id": "Rv1D09dyB0eP"
      },
      "source": [
        "# ValueError: shapes (2,2) and (3,3) not aligned: 2 (dim 1) != 3 (dim 0)\n",
        "\n",
        "Now the task is to define a function named is_compatible() that takes 2 matrices as input and only allows the dot product if the condition number of **columns** in the first matrix (A) matches the number of **rows** in the second matrix (B).\n",
        "\n",
        "Print the ouput if condition is satisfied\n",
        "Else print \"Dimension Error!!\"\n",
        "\n",
        "\n"
      ]
    },
    {
      "cell_type": "code",
      "execution_count": 5,
      "metadata": {
        "id": "RmS0xS8tCjNC"
      },
      "outputs": [],
      "source": [
        "def is_compatible(A, B):\n",
        "  if A.shape[1] == B.shape[0]:\n",
        "    print(np.dot(A,B))\n",
        "  else:\n",
        "    print(\"Dimension error!!\")\n",
        "  pass"
      ]
    },
    {
      "cell_type": "code",
      "execution_count": 6,
      "metadata": {
        "id": "ds0XYSZ6E9nl"
      },
      "outputs": [
        {
          "name": "stdout",
          "output_type": "stream",
          "text": [
            "AxB:\n",
            "Dimension error!!\n"
          ]
        }
      ],
      "source": [
        "# Find Dot product only if the matrices are compatible\n",
        "A = np.random.randint(1,10,(2,3))\n",
        "B = np.random.randint(1,10,(4,5))\n",
        "print(\"AxB:\")\n",
        "is_compatible(A, B)\n"
      ]
    },
    {
      "cell_type": "markdown",
      "metadata": {
        "id": "SR_JeHeEdWOX"
      },
      "source": [
        "# **Task 2**\n",
        "\n",
        "Your goal is to define a function that simulates a number-guessing game called \"Up-Down.\" The function, named up_down, should take an integer rounds as input, representing the number of turns the player gets.\n",
        "\n",
        "Game Rules:\n",
        "\n",
        "1. The player inputs a number between 1 and 12 for each round.\n",
        "2. The computer randomly selects a number between 1 and 12.\n",
        "3. The scoring system is as follows:\n",
        "  \n",
        "  a. If computer's guess is less than 7 and the player gains points equivalent to their guess if their guess is also less than 7, otherwise, they lose points equivalent to their guess.\n",
        "  \n",
        "  b. If computer's guess is exactly 7, the player gains 14 points if thier guess is 7, otherwise, they lose points equivalent to their guess.\n",
        "  \n",
        "  c. If computer's guess is greater than 7 and the player gains points equivalent to their guess if their guess is also greater than 7, otherwise, they lose points equivalent to their guess.\n",
        "\n",
        "4. The game continues until:\n",
        "\n",
        "  a. The player reaches more than 30 points, they win.\n",
        "\n",
        "  b. The player reaches less than -30 points, they lose.\n",
        "\n",
        "  c. The maximum number of rounds is reached.\n",
        "  \n",
        "At the end of the game, the function should print the final score.\n",
        "\n",
        "Your task is to implement this function in Python using the given rules."
      ]
    },
    {
      "cell_type": "code",
      "execution_count": null,
      "metadata": {
        "id": "0fxnUDma7aPx"
      },
      "outputs": [
        {
          "name": "stdout",
          "output_type": "stream",
          "text": [
            "Welcome to the game\n"
          ]
        }
      ],
      "source": [
        "import numpy as np\n",
        "\n",
        "def up_down(rounds):\n",
        "    score = 0\n",
        "    for i in range(rounds):\n",
        "        while True:\n",
        "            try:\n",
        "                playerguess = int(input(\"Enter a number between 1 and 12: \"))\n",
        "                if 1 <= playerguess <= 12:\n",
        "                    break\n",
        "                print(\"Invalid input! Choose a number between 1 and 12.\")\n",
        "            except ValueError:\n",
        "                print(\"Invalid input! Enter a valid integer.\")\n",
        "\n",
        "        computerguess = np.random.randint(1, 13)  # Ensuring it includes 12\n",
        "        print(f\"Computer's guess: {computerguess}\")\n",
        "\n",
        "        if computerguess < 7:\n",
        "            if playerguess < 7:\n",
        "                score += playerguess\n",
        "            else:\n",
        "                score -= playerguess\n",
        "        elif computerguess == 7:\n",
        "            if playerguess == 7:\n",
        "                score += 14\n",
        "            else:\n",
        "                score -= playerguess\n",
        "        else:\n",
        "            if playerguess > 7:\n",
        "                score += playerguess\n",
        "            else:\n",
        "                score -= playerguess\n",
        "\n",
        "        print(f\"Current score: {score}\")\n",
        "\n",
        "        if score > 30:\n",
        "            print(\"You win!\")\n",
        "            return\n",
        "        elif score < -30:\n",
        "            print(\"You lose!\")\n",
        "            return\n",
        "\n",
        "    print(f\"Final score: {score}\")\n",
        "\n",
        "print(\"Welcome to the game\")\n",
        "up_down(3)\n"
      ]
    }
  ],
  "metadata": {
    "colab": {
      "provenance": []
    },
    "kernelspec": {
      "display_name": "Python 3",
      "name": "python3"
    },
    "language_info": {
      "codemirror_mode": {
        "name": "ipython",
        "version": 3
      },
      "file_extension": ".py",
      "mimetype": "text/x-python",
      "name": "python",
      "nbconvert_exporter": "python",
      "pygments_lexer": "ipython3",
      "version": "3.12.4"
    }
  },
  "nbformat": 4,
  "nbformat_minor": 0
}
