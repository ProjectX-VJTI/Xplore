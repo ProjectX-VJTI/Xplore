{
  "cells": [
    {
      "cell_type": "markdown",
      "metadata": {
        "id": "6LkPygla_OXh"
      },
      "source": [
        "# **Task 1**\n",
        "\n",
        "Your goal is to find the answer of the dot product of the matrices of sizes (2,3), (3,5), (5,2) and (3,3).\n",
        "\n",
        "## **Workflow:**\n",
        "1. Define the matrices of given sizes.\n",
        "2. Print the matrices.\n",
        "3. Use the np.dot function.\n",
        "4. Print the output at each step.\n",
        "5. Print the result.\n",
        "\n",
        "(Print the shape of matrix always with the matrix)\n"
      ]
    },
    {
      "cell_type": "code",
      "execution_count": 16,
      "metadata": {
        "id": "Z8iSVv-r_WkT"
      },
      "outputs": [],
      "source": [
        "# Import Numpy\n",
        "import numpy as np"
      ]
    },
    {
      "cell_type": "code",
      "execution_count": 18,
      "metadata": {
        "id": "r1pVl7LbA1_I"
      },
      "outputs": [],
      "source": [
        "# Define the 4 matrices as A,B,C,D\n",
        "A = np.random.randint(0, 11, size = (2,3))\n",
        "B = np.random.randint(0, 11, size = (3,5))\n",
        "C = np.random.randint(0, 11, size = (5,2))\n",
        "D = np.random.randint(0, 11, size = (3,3))"
      ]
    },
    {
      "cell_type": "code",
      "execution_count": 9,
      "metadata": {
        "id": "uJHj_CbhA83b"
      },
      "outputs": [
        {
          "name": "stdout",
          "output_type": "stream",
          "text": [
            "[[8 1 0]\n",
            " [3 5 9]]\n",
            "[[10  4  2  1  9]\n",
            " [ 5  5  4  8  8]\n",
            " [ 1  6  1  4  4]]\n",
            "[[10  7]\n",
            " [ 4  0]\n",
            " [ 6  5]\n",
            " [ 3  6]\n",
            " [10  8]]\n",
            "[[ 5  5  4]\n",
            " [ 5 10  2]\n",
            " [ 0  8  3]]\n"
          ]
        }
      ],
      "source": [
        "# Print the 4 matrices\n",
        "print(A)\n",
        "print(B)\n",
        "print(C)\n",
        "print(D)"
      ]
    },
    {
      "cell_type": "code",
      "execution_count": 10,
      "metadata": {
        "id": "MDcD7tOWBMzG"
      },
      "outputs": [
        {
          "name": "stdout",
          "output_type": "stream",
          "text": [
            "[[ 85  37  20  16  80]\n",
            " [ 64  91  35  79 103]]\n",
            "[[221 158]\n",
            " [198 167]\n",
            " [ 92  68]]\n"
          ]
        },
        {
          "ename": "ValueError",
          "evalue": "shapes (5,2) and (3,3) not aligned: 2 (dim 1) != 3 (dim 0)",
          "output_type": "error",
          "traceback": [
            "\u001b[1;31m---------------------------------------------------------------------------\u001b[0m",
            "\u001b[1;31mValueError\u001b[0m                                Traceback (most recent call last)",
            "Cell \u001b[1;32mIn[10], line 4\u001b[0m\n\u001b[0;32m      2\u001b[0m \u001b[38;5;28mprint\u001b[39m(np\u001b[38;5;241m.\u001b[39mdot(A,B))\n\u001b[0;32m      3\u001b[0m \u001b[38;5;28mprint\u001b[39m(np\u001b[38;5;241m.\u001b[39mdot(B,C))\n\u001b[1;32m----> 4\u001b[0m \u001b[38;5;28mprint\u001b[39m(\u001b[43mnp\u001b[49m\u001b[38;5;241;43m.\u001b[39;49m\u001b[43mdot\u001b[49m\u001b[43m(\u001b[49m\u001b[43mC\u001b[49m\u001b[43m,\u001b[49m\u001b[43mD\u001b[49m\u001b[43m)\u001b[49m)\n",
            "\u001b[1;31mValueError\u001b[0m: shapes (5,2) and (3,3) not aligned: 2 (dim 1) != 3 (dim 0)"
          ]
        }
      ],
      "source": [
        "# Find the Dot Product of matrices\n",
        "print(np.dot(A,B))\n",
        "print(np.dot(B,C))\n",
        "print(np.dot(C,D))"
      ]
    },
    {
      "cell_type": "markdown",
      "metadata": {
        "id": "Rv1D09dyB0eP"
      },
      "source": [
        "# ValueError: shapes (2,2) and (3,3) not aligned: 2 (dim 1) != 3 (dim 0)\n",
        "\n",
        "Now the task is to define a function named is_compatible() that takes 2 matrices as input and only allows the dot product if the condition number of **columns** in the first matrix (A) matches the number of **rows** in the second matrix (B).\n",
        "\n",
        "Print the ouput if condition is satisfied\n",
        "Else print \"Dimension Error!!\"\n",
        "\n",
        "\n"
      ]
    },
    {
      "cell_type": "code",
      "execution_count": 21,
      "metadata": {
        "id": "RmS0xS8tCjNC"
      },
      "outputs": [
        {
          "name": "stdout",
          "output_type": "stream",
          "text": [
            "[[117  62  25  91 101]\n",
            " [121  79  27  90 101]]\n",
            "[[ 73 107]\n",
            " [ 71 147]\n",
            " [ 76 175]]\n",
            "Dimension Error!!\n"
          ]
        }
      ],
      "source": [
        "def is_compatible(A, B):\n",
        "    if A.shape[1] == B.shape[0]:\n",
        "        return True\n",
        "    else:\n",
        "        return False\n",
        "\n",
        "if is_compatible(A, B)==True:\n",
        "  print(np.dot(A,B)) \n",
        "else:\n",
        "  print(\"Dimension Error!!\")\n",
        "if is_compatible(B, C)==True:\n",
        "  print(np.dot(B,C)) \n",
        "else:\n",
        "  print(\"Dimension Error!!\")\n",
        "if is_compatible(C, D)==True:\n",
        "  print(np.dot(C,D)) \n",
        "else:\n",
        "  print(\"Dimension Error!!\")"
      ]
    },
    {
      "cell_type": "code",
      "execution_count": null,
      "metadata": {
        "id": "ds0XYSZ6E9nl"
      },
      "outputs": [],
      "source": [
        "# Find Dot product only if the matrices are compatible"
      ]
    },
    {
      "cell_type": "markdown",
      "metadata": {
        "id": "SR_JeHeEdWOX"
      },
      "source": [
        "# **Task 2**\n",
        "\n",
        "Your goal is to define a function that simulates a number-guessing game called \"Up-Down.\" The function, named up_down, should take an integer rounds as input, representing the number of turns the player gets.\n",
        "\n",
        "Game Rules:\n",
        "\n",
        "1. The player inputs a number between 1 and 12 for each round.\n",
        "2. The computer randomly selects a number between 1 and 12.\n",
        "3. The scoring system is as follows:\n",
        "  \n",
        "  a. If computer's guess is less than 7 and the player gains points equivalent to their guess if their guess is also less than 7, otherwise, they lose points equivalent to their guess.\n",
        "  \n",
        "  b. If computer's guess is exactly 7, the player gains 14 points if thier guess is 7, otherwise, they lose points equivalent to their guess.\n",
        "  \n",
        "  c. If computer's guess is greater than 7 and the player gains points equivalent to their guess if their guess is also greater than 7, otherwise, they lose points equivalent to their guess.\n",
        "\n",
        "4. The game continues until:\n",
        "\n",
        "  a. The player reaches more than 30 points, they win.\n",
        "\n",
        "  b. The player reaches less than -30 points, they lose.\n",
        "\n",
        "  c. The maximum number of rounds is reached.\n",
        "  \n",
        "At the end of the game, the function should print the final score.\n",
        "\n",
        "Your task is to implement this function in Python using the given rules."
      ]
    },
    {
      "cell_type": "code",
      "execution_count": null,
      "metadata": {
        "id": "0fxnUDma7aPx"
      },
      "outputs": [
        {
          "name": "stdout",
          "output_type": "stream",
          "text": [
            "Score: -21\n"
          ]
        }
      ],
      "source": [
        "import numpy as np\n",
        "\n",
        "def up_down(rounds):\n",
        "    points = 0  \n",
        "\n",
        "    for _ in range(rounds):  \n",
        "        x = int(input(\"Enter a number between 1 and 12: \"))  \n",
        "        if x < 1 or x > 12:\n",
        "            print(\"Invalid input\")\n",
        "            continue\n",
        "          \n",
        "        guess = np.random.randint(1, 13)  \n",
        "        if guess < 7:\n",
        "            if x < 7:\n",
        "                points += x\n",
        "            else:\n",
        "                points -= x\n",
        "        elif guess == 7:\n",
        "            if x == 7:\n",
        "                points += 14\n",
        "            else:\n",
        "                points -= x\n",
        "        else:  \n",
        "            if x > 7:\n",
        "                points += x\n",
        "            else:\n",
        "                points -= x\n",
        "\n",
        "        if points > 30:\n",
        "            print(\"win!\")\n",
        "            return\n",
        "        elif points < -30:\n",
        "            print(\"lose!\")\n",
        "            return\n",
        "\n",
        "    print(f\"Score: {points}\")\n",
        "\n",
        "# Get user input for rounds\n",
        "rounds = int(input(\"Enter number of rounds: \"))\n",
        "up_down(rounds)\n"
      ]
    }
  ],
  "metadata": {
    "colab": {
      "provenance": []
    },
    "kernelspec": {
      "display_name": "Python 3",
      "name": "python3"
    },
    "language_info": {
      "codemirror_mode": {
        "name": "ipython",
        "version": 3
      },
      "file_extension": ".py",
      "mimetype": "text/x-python",
      "name": "python",
      "nbconvert_exporter": "python",
      "pygments_lexer": "ipython3",
      "version": "3.13.1"
    }
  },
  "nbformat": 4,
  "nbformat_minor": 0
}
