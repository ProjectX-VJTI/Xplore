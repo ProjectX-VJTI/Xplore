{
  "cells": [
    {
      "cell_type": "markdown",
      "metadata": {
        "id": "6LkPygla_OXh"
      },
      "source": [
        "# **Task 1**\n",
        "\n",
        "Your goal is to find the answer of the dot product of the matrices of sizes (2,3), (3,5), (5,2) and (3,3).\n",
        "\n",
        "## **Workflow:**\n",
        "1. Define the matrices of given sizes.\n",
        "2. Print the matrices.\n",
        "3. Use the np.dot function.\n",
        "4. Print the output at each step.\n",
        "5. Print the result.\n",
        "\n",
        "(Print the shape of matrix always with the matrix)\n"
      ]
    },
    {
      "cell_type": "code",
      "execution_count": null,
      "metadata": {
        "id": "Z8iSVv-r_WkT"
      },
      "outputs": [],
      "source": [
        "# Import Numpy\n",
        "import Numpy as np"
      ]
    },
    {
      "cell_type": "code",
      "execution_count": 1,
      "metadata": {
        "id": "r1pVl7LbA1_I"
      },
      "outputs": [
        {
          "ename": "NameError",
          "evalue": "name 'np' is not defined",
          "output_type": "error",
          "traceback": [
            "\u001b[1;31m---------------------------------------------------------------------------\u001b[0m",
            "\u001b[1;31mNameError\u001b[0m                                 Traceback (most recent call last)",
            "Cell \u001b[1;32mIn[1], line 2\u001b[0m\n\u001b[0;32m      1\u001b[0m \u001b[38;5;66;03m# Define the 4 matrices as A,B,C,D\u001b[39;00m\n\u001b[1;32m----> 2\u001b[0m A\u001b[38;5;241m=\u001b[39m\u001b[43mnp\u001b[49m\u001b[38;5;241m.\u001b[39mrandom\u001b[38;5;241m.\u001b[39mrandom((\u001b[38;5;241m2\u001b[39m, \u001b[38;5;241m3\u001b[39m))\n\u001b[0;32m      3\u001b[0m B\u001b[38;5;241m=\u001b[39mnp\u001b[38;5;241m.\u001b[39mrandom\u001b[38;5;241m.\u001b[39mrandom((\u001b[38;5;241m3\u001b[39m,\u001b[38;5;241m5\u001b[39m))\n\u001b[0;32m      4\u001b[0m C\u001b[38;5;241m=\u001b[39mnp\u001b[38;5;241m.\u001b[39mrandom\u001b[38;5;241m.\u001b[39mrandom((\u001b[38;5;241m5\u001b[39m,\u001b[38;5;241m2\u001b[39m))\n",
            "\u001b[1;31mNameError\u001b[0m: name 'np' is not defined"
          ]
        }
      ],
      "source": [
        "# Define the 4 matrices as A,B,C,D\n",
        "A=np.random.random((2, 3))\n",
        "B=np.random.random((3,5))\n",
        "C=np.random.random((5,2))\n",
        "D=np.random.random((3, 3))"
      ]
    },
    {
      "cell_type": "code",
      "execution_count": null,
      "metadata": {
        "id": "uJHj_CbhA83b"
      },
      "outputs": [],
      "source": [
        "# Print the 4 matrices\n",
        "print(\"Array A\",A)\n",
        "print(\"Array B\",B)\n",
        "print(\"Array c\",C)\n",
        "print(\"Array D\",D)"
      ]
    },
    {
      "cell_type": "code",
      "execution_count": null,
      "metadata": {
        "id": "MDcD7tOWBMzG"
      },
      "outputs": [],
      "source": [
        "# Find the Dot Product of matrices\n",
        "dotProd1=np.dot(A,B)\n",
        "\n",
        "dotProd2=np.dot(A,C)\n",
        "dotProd3=np.dot(A,D)\n",
        "dotProd4=np.dot(B,C)\n",
        "dotProd5=np.dot(B,D)\n",
        "dotProd6=np.dot(C,D)\n",
        "print(dotProd1,dotProd2,dotProd3,dotProd4,dotProd5,dotProd6)"
      ]
    },
    {
      "cell_type": "markdown",
      "metadata": {
        "id": "Rv1D09dyB0eP"
      },
      "source": [
        "# ValueError: shapes (2,2) and (3,3) not aligned: 2 (dim 1) != 3 (dim 0)\n",
        "\n",
        "Now the task is to define a function named is_compatible() that takes 2 matrices as input and only allows the dot product if the condition number of **columns** in the first matrix (A) matches the number of **rows** in the second matrix (B).\n",
        "\n",
        "Print the ouput if condition is satisfied\n",
        "Else print \"Dimension Error!!\"\n",
        "\n",
        "\n"
      ]
    },
    {
      "cell_type": "code",
      "execution_count": null,
      "metadata": {
        "id": "RmS0xS8tCjNC"
      },
      "outputs": [],
      "source": [
        "def is_compatible(A, B):\n",
        "  pass"
      ]
    },
    {
      "cell_type": "code",
      "execution_count": null,
      "metadata": {
        "id": "ds0XYSZ6E9nl"
      },
      "outputs": [],
      "source": [
        "# Find Dot product only if the matrices are compatible"
      ]
    },
    {
      "cell_type": "markdown",
      "metadata": {
        "id": "SR_JeHeEdWOX"
      },
      "source": [
        "# **Task 2**\n",
        "\n",
        "Your goal is to define a function that simulates a number-guessing game called \"Up-Down.\" The function, named up_down, should take an integer rounds as input, representing the number of turns the player gets.\n",
        "\n",
        "Game Rules:\n",
        "\n",
        "1. The player inputs a number between 1 and 12 for each round.\n",
        "2. The computer randomly selects a number between 1 and 12.\n",
        "3. The scoring system is as follows:\n",
        "  \n",
        "  a. If computer's guess is less than 7 and the player gains points equivalent to their guess if their guess is also less than 7, otherwise, they lose points equivalent to their guess.\n",
        "  \n",
        "  b. If computer's guess is exactly 7, the player gains 14 points if thier guess is 7, otherwise, they lose points equivalent to their guess.\n",
        "  \n",
        "  c. If computer's guess is greater than 7 and the player gains points equivalent to their guess if their guess is also greater than 7, otherwise, they lose points equivalent to their guess.\n",
        "\n",
        "4. The game continues until:\n",
        "\n",
        "  a. The player reaches more than 30 points, they win.\n",
        "\n",
        "  b. The player reaches less than -30 points, they lose.\n",
        "\n",
        "  c. The maximum number of rounds is reached.\n",
        "  \n",
        "At the end of the game, the function should print the final score.\n",
        "\n",
        "Your task is to implement this function in Python using the given rules."
      ]
    },
    {
      "cell_type": "code",
      "execution_count": null,
      "metadata": {
        "id": "0fxnUDma7aPx"
      },
      "outputs": [],
      "source": [
        "import numpy as np\n",
        "def up_down(rounds=0):\n",
        "  ct=0\n",
        "  \n",
        "  while rounds>0 :\n",
        "     \n",
        "      uip=int(input(\"Enter a number between 1 to 12\"))\n",
        "      while uip>12 or uip <1 : uip=int(input(\"Enter a number in range 1 to 12 only\"))\n",
        "      cg=np.random.randint(1,13)\n",
        "      if cg<7 and uip<7 : ct+=uip\n",
        "      elif  cg==7 and uip==7 :  ct+=7\n",
        "      elif cg > 7 and uip>7 : ct+=uip\n",
        "      else : ct-=uip\n",
        "      if ct> 30 : \n",
        "        print(\"Yay!You Win\") \n",
        "        return\n",
        "      elif ct<-30 : \n",
        "        print(\"You lose\") \n",
        "        return\n",
        "\n",
        "      rounds-=1\n",
        "\n",
        "\n",
        "rounds=int(input(\"Enter number of rounds :\"))\n",
        "up_down(rounds)\n",
        "\n"
      ]
    }
  ],
  "metadata": {
    "colab": {
      "provenance": []
    },
    "kernelspec": {
      "display_name": ".venv",
      "language": "python",
      "name": "python3"
    },
    "language_info": {
      "codemirror_mode": {
        "name": "ipython",
        "version": 3
      },
      "file_extension": ".py",
      "mimetype": "text/x-python",
      "name": "python",
      "nbconvert_exporter": "python",
      "pygments_lexer": "ipython3",
      "version": "3.13.1"
    }
  },
  "nbformat": 4,
  "nbformat_minor": 0
}
