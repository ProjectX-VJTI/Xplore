{
  "cells": [
    {
      "cell_type": "markdown",
      "metadata": {
        "id": "6LkPygla_OXh"
      },
      "source": [
        "# **Task 1**\n",
        "\n",
        "Your goal is to find the answer of the dot product of the matrices of sizes (2,3), (3,5), (5,2) and (3,3).\n",
        "\n",
        "## **Workflow:**\n",
        "1. Define the matrices of given sizes.\n",
        "2. Print the matrices.\n",
        "3. Use the np.dot function.\n",
        "4. Print the output at each step.\n",
        "5. Print the result.\n",
        "\n",
        "(Print the shape of matrix always with the matrix)\n"
      ]
    },
    {
      "cell_type": "code",
      "execution_count": null,
      "metadata": {
        "id": "Z8iSVv-r_WkT"
      },
      "outputs": [],
      "source": [
        "# Import Numpy\n",
        "import numpy as np"
      ]
    },
    {
      "cell_type": "code",
      "execution_count": null,
      "metadata": {
        "id": "r1pVl7LbA1_I"
      },
      "outputs": [],
      "source": [
        "# Define the 4 matrices as A,B,C,D\n",
        "matrix_a = np.random.rand(2, 3)  \n",
        "matrix_b = np.random.rand(3, 5)  \n",
        "matrix_c = np.random.rand(5, 2)  \n",
        "matrix_d = np.random.rand(3, 3)  \n"
      ]
    },
    {
      "cell_type": "code",
      "execution_count": null,
      "metadata": {
        "id": "uJHj_CbhA83b"
      },
      "outputs": [],
      "source": [
        "# Print the 4 matrices\n",
        "print(\"A : \",matrix_a)\n",
        "print(\"Shape of A\" , matrix_a.shape)\n",
        "print(\"B : \",matrix_b)\n",
        "print(\"Shape of B\" , matrix_b.shape)\n",
        "print(\"C : \",matrix_c)\n",
        "print(\"Shape of C\" , matrix_c.shape)\n",
        "print(\"D : \",matrix_d)\n",
        "print(\"Shape of D \" , matrix_d.shape)"
      ]
    },
    {
      "cell_type": "code",
      "execution_count": null,
      "metadata": {
        "id": "MDcD7tOWBMzG"
      },
      "outputs": [],
      "source": [
        "# Find the Dot Product of matrices\n",
        "#dot product of first three (A*B*C)\n",
        "dot_ab = np.dot(matrix_a,matrix_b)\n",
        "dot_abc = np.dot(dot_ab,matrix_c)\n",
        "print(\"Dot product A*B*C :\" , dot_abc)\n",
        "print(\"Shape of it :\" , dot_abc.shape)"
      ]
    },
    {
      "cell_type": "markdown",
      "metadata": {
        "id": "Rv1D09dyB0eP"
      },
      "source": [
        "# ValueError: shapes (2,2) and (3,3) not aligned: 2 (dim 1) != 3 (dim 0)\n",
        "\n",
        "Now the task is to define a function named is_compatible() that takes 2 matrices as input and only allows the dot product if the condition number of **columns** in the first matrix (A) matches the number of **rows** in the second matrix (B).\n",
        "\n",
        "Print the ouput if condition is satisfied\n",
        "Else print \"Dimension Error!!\"\n",
        "\n",
        "\n"
      ]
    },
    {
      "cell_type": "code",
      "execution_count": null,
      "metadata": {
        "id": "RmS0xS8tCjNC"
      },
      "outputs": [],
      "source": [
        "def is_compatible(A, B):\n",
        "  rowa , cola = A.shape\n",
        "  rowb , colb = B.shape\n",
        "  if cola == rowb:\n",
        "        result = np.dot(matrix_a, matrix_b)\n",
        "        print(\"Dot Product Result:\")\n",
        "        print(result)\n",
        "        print(\"Shape of Result:\", result.shape)\n",
        "  else:\n",
        "        print(\"Dimension Error!!\")\n",
        "  "
      ]
    },
    {
      "cell_type": "code",
      "execution_count": null,
      "metadata": {
        "id": "ds0XYSZ6E9nl"
      },
      "outputs": [],
      "source": [
        "# Find Dot product only if the matrices are compatible"
      ]
    },
    {
      "cell_type": "markdown",
      "metadata": {
        "id": "SR_JeHeEdWOX"
      },
      "source": [
        "# **Task 2**\n",
        "\n",
        "Your goal is to define a function that simulates a number-guessing game called \"Up-Down.\" The function, named up_down, should take an integer rounds as input, representing the number of turns the player gets.\n",
        "\n",
        "Game Rules:\n",
        "\n",
        "1. The player inputs a number between 1 and 12 for each round.\n",
        "2. The computer randomly selects a number between 1 and 12.\n",
        "3. The scoring system is as follows:\n",
        "  \n",
        "  a. If computer's guess is less than 7 and the player gains points equivalent to their guess if their guess is also less than 7, otherwise, they lose points equivalent to their guess.\n",
        "  \n",
        "  b. If computer's guess is exactly 7, the player gains 14 points if thier guess is 7, otherwise, they lose points equivalent to their guess.\n",
        "  \n",
        "  c. If computer's guess is greater than 7 and the player gains points equivalent to their guess if their guess is also greater than 7, otherwise, they lose points equivalent to their guess.\n",
        "\n",
        "4. The game continues until:\n",
        "\n",
        "  a. The player reaches more than 30 points, they win.\n",
        "\n",
        "  b. The player reaches less than -30 points, they lose.\n",
        "\n",
        "  c. The maximum number of rounds is reached.\n",
        "  \n",
        "At the end of the game, the function should print the final score.\n",
        "\n",
        "Your task is to implement this function in Python using the given rules."
      ]
    },
    {
      "cell_type": "code",
      "execution_count": null,
      "metadata": {
        "id": "0fxnUDma7aPx"
      },
      "outputs": [],
      "source": [
        "def up_down(rounds):\n",
        "  score = 0\n",
        "  for i in range(rounds):\n",
        "        player_guess = int(input(\"Enter your guess (1-12): \"))\n",
        "        computer_guess = np.random.randint(1, 13)\n",
        "        \n",
        "        if computer_guess < 7:\n",
        "            if player_guess < 7:\n",
        "                score += player_guess\n",
        "            else:\n",
        "                score -= player_guess\n",
        "        elif computer_guess == 7:\n",
        "            if player_guess == 7:\n",
        "                score += 14\n",
        "            else:\n",
        "                score -= player_guess\n",
        "        else:\n",
        "            if player_guess > 7:\n",
        "                score += player_guess\n",
        "            else:\n",
        "                score -= player_guess\n",
        "        \n",
        "        print(f\"Computer's guess: {computer_guess}, Your score: {score}\")\n",
        "        \n",
        "        if score > 30:\n",
        "            print(\"You win!\")\n",
        "            return\n",
        "        if score < -30:\n",
        "            print(\"You lose!\")\n",
        "            return\n",
        "    \n",
        "  print(f\"Final score: {score}\")\n",
        "  "
      ]
    }
  ],
  "metadata": {
    "colab": {
      "provenance": []
    },
    "kernelspec": {
      "display_name": "Python 3",
      "name": "python3"
    },
    "language_info": {
      "name": "python"
    }
  },
  "nbformat": 4,
  "nbformat_minor": 0
}
