{
 "cells": [
  {
   "cell_type": "markdown",
   "metadata": {
    "id": "6LkPygla_OXh"
   },
   "source": [
    "# **Task 1**\n",
    "\n",
    "Your goal is to find the answer of the dot product of the matrices of sizes (2,3), (3,5), (5,2) and (3,3).\n",
    "\n",
    "## **Workflow:**\n",
    "1. Define the matrices of given sizes.\n",
    "2. Print the matrices.\n",
    "3. Use the np.dot function.\n",
    "4. Print the output at each step.\n",
    "5. Print the result.\n",
    "\n",
    "(Print the shape of matrix always with the matrix)\n"
   ]
  },
  {
   "cell_type": "code",
   "execution_count": 1,
   "metadata": {
    "id": "Z8iSVv-r_WkT"
   },
   "outputs": [
    {
     "name": "stdout",
     "output_type": "stream",
     "text": [
      "[[ 7  8 14]\n",
      " [ 7 11 10]] \n",
      "shape is: (2, 3)\n",
      "[[14 17  9 16  5]\n",
      " [ 2 17 12 17 10]\n",
      " [16  2 15  0  0]] \n",
      "shape is: (3, 5)\n",
      "[[16 18]\n",
      " [15 10]\n",
      " [ 9 17]\n",
      " [11 18]\n",
      " [13  8]] \n",
      "shape is: (5, 2)\n",
      "[[11  9  0]\n",
      " [ 4 17 18]\n",
      " [ 9  9 15]] \n",
      "shape is: (3, 3)\n"
     ]
    }
   ],
   "source": [
    "# Import Numpy\n",
    "import numpy as np\n",
    "# Define the 4 matrices as A,B,C,D\n",
    "A=np.random.randint(20,size=(2,3))\n",
    "B=np.random.randint(20,size=(3,5))\n",
    "C=np.random.randint(20,size=(5,2))\n",
    "D=np.random.randint(20,size=(3,3))\n",
    "# Print the 4 matrices\n",
    "print(A,\"\\nshape is:\",A.shape)\n",
    "print(B,\"\\nshape is:\",B.shape)\n",
    "print(C,\"\\nshape is:\",C.shape)\n",
    "print(D,\"\\nshape is:\",D.shape)"
   ]
  },
  {
   "cell_type": "code",
   "execution_count": 2,
   "metadata": {
    "id": "MDcD7tOWBMzG"
   },
   "outputs": [
    {
     "name": "stdout",
     "output_type": "stream",
     "text": [
      "Dot Product of A and B :  [[338 283 369 248 115]\n",
      " [280 326 345 299 145]] \n",
      "shape is: (2, 5)\n",
      "Dot Product of A.B with C :  [[17197 20571]\n",
      " [17649 20707]] \n",
      "shape is: (2, 2)\n"
     ]
    },
    {
     "ename": "ValueError",
     "evalue": "shapes (2,2) and (3,3) not aligned: 2 (dim 1) != 3 (dim 0)",
     "output_type": "error",
     "traceback": [
      "\u001b[0;31m---------------------------------------------------------------------------\u001b[0m",
      "\u001b[0;31mValueError\u001b[0m                                Traceback (most recent call last)",
      "Cell \u001b[0;32mIn[2], line 6\u001b[0m\n\u001b[1;32m      4\u001b[0m F \u001b[38;5;241m=\u001b[39m np\u001b[38;5;241m.\u001b[39mdot(E,C)\n\u001b[1;32m      5\u001b[0m \u001b[38;5;28mprint\u001b[39m(\u001b[38;5;124m\"\u001b[39m\u001b[38;5;124mDot Product of A.B with C : \u001b[39m\u001b[38;5;124m\"\u001b[39m, F, \u001b[38;5;124m\"\u001b[39m\u001b[38;5;130;01m\\n\u001b[39;00m\u001b[38;5;124mshape is:\u001b[39m\u001b[38;5;124m\"\u001b[39m,F\u001b[38;5;241m.\u001b[39mshape)\n\u001b[0;32m----> 6\u001b[0m G \u001b[38;5;241m=\u001b[39m \u001b[43mnp\u001b[49m\u001b[38;5;241;43m.\u001b[39;49m\u001b[43mdot\u001b[49m\u001b[43m(\u001b[49m\u001b[43mF\u001b[49m\u001b[43m,\u001b[49m\u001b[43mD\u001b[49m\u001b[43m)\u001b[49m\n\u001b[1;32m      7\u001b[0m \u001b[38;5;28mprint\u001b[39m(\u001b[38;5;124m\"\u001b[39m\u001b[38;5;124mDot Product of A.B.C with D : \u001b[39m\u001b[38;5;124m\"\u001b[39m, G, \u001b[38;5;124m\"\u001b[39m\u001b[38;5;130;01m\\n\u001b[39;00m\u001b[38;5;124mshape is:\u001b[39m\u001b[38;5;124m\"\u001b[39m,G\u001b[38;5;241m.\u001b[39mshape)\n",
      "\u001b[0;31mValueError\u001b[0m: shapes (2,2) and (3,3) not aligned: 2 (dim 1) != 3 (dim 0)"
     ]
    }
   ],
   "source": [
    "# Find the Dot Product of matrices\n",
    "E = np.dot(A,B)\n",
    "print(\"Dot Product of A and B : \", E, \"\\nshape is:\",E.shape)\n",
    "F = np.dot(E,C)\n",
    "print(\"Dot Product of A.B with C : \", F, \"\\nshape is:\",F.shape)\n",
    "G = np.dot(F,D)\n",
    "print(\"Dot Product of A.B.C with D : \", G, \"\\nshape is:\",G.shape)\n"
   ]
  },
  {
   "cell_type": "markdown",
   "metadata": {
    "id": "Rv1D09dyB0eP"
   },
   "source": [
    "# ValueError: shapes (2,2) and (3,3) not aligned: 2 (dim 1) != 3 (dim 0)\n",
    "\n",
    "Now the task is to define a function named is_compatible() that takes 2 matrices as input and only allows the dot product if the condition number of **columns** in the first matrix (A) matches the number of **rows** in the second matrix (B).\n",
    "\n",
    "Print the ouput if condition is satisfied\n",
    "Else print \"Dimension Error!!\"\n",
    "\n",
    "\n"
   ]
  },
  {
   "cell_type": "code",
   "execution_count": 3,
   "metadata": {
    "id": "RmS0xS8tCjNC"
   },
   "outputs": [],
   "source": [
    "def is_compatible(A, B):\n",
    "  if A.shape[1]==B.shape[0]:\n",
    "    x=np.dot(A,B)\n",
    "    print(\"\\nshape is:\",x.shape)\n",
    "    return x\n",
    "  else:\n",
    "    print(\"Dimension Error!!\")"
   ]
  },
  {
   "cell_type": "code",
   "execution_count": 4,
   "metadata": {
    "id": "ds0XYSZ6E9nl"
   },
   "outputs": [
    {
     "name": "stdout",
     "output_type": "stream",
     "text": [
      "\n",
      "shape is: (2, 5)\n",
      "Dot Product of A and B :  [[338 283 369 248 115]\n",
      " [280 326 345 299 145]]\n",
      "\n",
      "shape is: (2, 2)\n",
      "Dot Product of A.B with C :  [[17197 20571]\n",
      " [17649 20707]]\n",
      "Dimension Error!!\n",
      "Dot Product of A.B.C with D :  None\n"
     ]
    }
   ],
   "source": [
    "# Find Dot product only if the matrices are compatible\n",
    "E = is_compatible(A,B)\n",
    "print(\"Dot Product of A and B : \", E)\n",
    "F = is_compatible(E,C)\n",
    "print(\"Dot Product of A.B with C : \", F)\n",
    "G = is_compatible(F,D)\n",
    "print(\"Dot Product of A.B.C with D : \", G)"
   ]
  },
  {
   "cell_type": "markdown",
   "metadata": {
    "id": "SR_JeHeEdWOX"
   },
   "source": [
    "# **Task 2**\n",
    "\n",
    "Your goal is to define a function that simulates a number-guessing game called \"Up-Down.\" The function, named up_down, should take an integer rounds as input, representing the number of turns the player gets.\n",
    "\n",
    "Game Rules:\n",
    "\n",
    "1. The player inputs a number between 1 and 12 for each round.\n",
    "2. The computer randomly selects a number between 1 and 12.\n",
    "3. The scoring system is as follows:\n",
    "  \n",
    "  a. If computer's guess is less than 7 and the player gains points equivalent to their guess if their guess is also less than 7, otherwise, they lose points equivalent to their guess.\n",
    "  \n",
    "  b. If computer's guess is exactly 7, the player gains 14 points if thier guess is 7, otherwise, they lose points equivalent to their guess.\n",
    "  \n",
    "  c. If computer's guess is greater than 7 and the player gains points equivalent to their guess if their guess is also greater than 7, otherwise, they lose points equivalent to their guess.\n",
    "\n",
    "4. The game continues until:\n",
    "\n",
    "  a. The player reaches more than 30 points, they win.\n",
    "\n",
    "  b. The player reaches less than -30 points, they lose.\n",
    "\n",
    "  c. The maximum number of rounds is reached.\n",
    "  \n",
    "At the end of the game, the function should print the final score.\n",
    "\n",
    "Your task is to implement this function in Python using the given rules."
   ]
  },
  {
   "cell_type": "code",
   "execution_count": null,
   "metadata": {},
   "outputs": [],
   "source": [
    "def up_down(rounds):\n",
    "    totalrounds=rounds\n",
    "    score=0\n",
    "    while rounds:\n",
    "        print(\"Round \", totalrounds-rounds+1)\n",
    "        num=int(input())\n",
    "        if num<1 or num>12:\n",
    "            print(\"Invalid input\\nThe no. should lie between 1 to 12\")\n",
    "        numc=np.random.randint(1,13)\n",
    "        print(\"The computer's guess is:\",numc)\n",
    "        if numc<7 and num<7:\n",
    "            score+=(num+numc)\n",
    "        elif numc<7 and num>=7:\n",
    "            score-=(num+numc)\n",
    "        elif numc>7 and num>7:\n",
    "            score+=(num+numc)\n",
    "        elif numc>7 and num<=7:\n",
    "            score-=(num+numc)\n",
    "        elif numc==7 and num==7:\n",
    "            score+=14\n",
    "        elif numc==7 and num!=7:\n",
    "            score+=(num+numc)\n",
    "        \n",
    "        if score>30:\n",
    "            print(\"You win\")\n",
    "            break\n",
    "        elif score<-30:\n",
    "            print(\"You loose\")\n",
    "            break\n",
    "        rounds-=1\n",
    "    else:\n",
    "        print(\"All rounds are completed\")\n",
    "    print(\"Your final score is: \",score)\n",
    "\n",
    "up_down(2)"
   ]
  }
 ],
 "metadata": {
  "colab": {
   "provenance": []
  },
  "kernelspec": {
   "display_name": "Python 3",
   "name": "python3"
  },
  "language_info": {
   "codemirror_mode": {
    "name": "ipython",
    "version": 3
   },
   "file_extension": ".py",
   "mimetype": "text/x-python",
   "name": "python",
   "nbconvert_exporter": "python",
   "pygments_lexer": "ipython3",
   "version": "3.9.6"
  }
 },
 "nbformat": 4,
 "nbformat_minor": 0
}
