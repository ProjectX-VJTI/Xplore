{
  "cells": [
    {
      "cell_type": "markdown",
      "metadata": {
        "id": "6LkPygla_OXh"
      },
      "source": [
        "# **Task 1**\n",
        "\n",
        "Your goal is to find the answer of the dot product of the matrices of sizes (2,3), (3,5), (5,2) and (3,3).\n",
        "\n",
        "## **Workflow:**\n",
        "1. Define the matrices of given sizes.\n",
        "2. Print the matrices.\n",
        "3. Use the np.dot function.\n",
        "4. Print the output at each step.\n",
        "5. Print the result.\n",
        "\n",
        "(Print the shape of matrix always with the matrix)\n"
      ]
    },
    {
      "cell_type": "code",
      "execution_count": null,
      "metadata": {
        "id": "Z8iSVv-r_WkT"
      },
      "outputs": [],
      "source": [
        "# Import Numpy\n",
        "import numpy as np"
      ]
    },
    {
      "cell_type": "code",
      "execution_count": null,
      "metadata": {
        "id": "r1pVl7LbA1_I"
      },
      "outputs": [],
      "source": [
        "# Define the 4 matrices as A,B,C,D\n",
        "A = np.array([[1,2,3], [4,5,6]])\n",
        "B = np.array([[1,2,3,4,5], [6,7,8,9,10], [1,2,3,4,5]])\n",
        "C = np.array([[1,2], [1,2], [1,2], [1,2], [1,2]])\n",
        "D = np.array([[1,2,3], [1,2,3], [1,2,3]])"
      ]
    },
    {
      "cell_type": "code",
      "execution_count": null,
      "metadata": {
        "id": "uJHj_CbhA83b"
      },
      "outputs": [],
      "source": [
        "# Print the 4 matrices\n",
        "print(A, A.shape, \"\\n\")\n",
        "print(B, B.shape, \"\\n\")\n",
        "print(C, C.shape, \"\\n\")\n",
        "print(D, D.shape, \"\\n\")"
      ]
    },
    {
      "cell_type": "code",
      "execution_count": null,
      "metadata": {
        "id": "MDcD7tOWBMzG"
      },
      "outputs": [],
      "source": [
        "# Find the Dot Product of matrices\n",
        "dotprod1 = np.dot(A, B)\n",
        "dotprod2 = np.dot(dotprod1, C)\n",
        "dotprodfinal = np.dot(dotprod2, D)\n",
        "\n",
        "print(dotprodfinal, dotprodfinal.shape)"
      ]
    },
    {
      "cell_type": "markdown",
      "metadata": {
        "id": "Rv1D09dyB0eP"
      },
      "source": [
        "# ValueError: shapes (2,2) and (3,3) not aligned: 2 (dim 1) != 3 (dim 0)\n",
        "\n",
        "Now the task is to define a function named is_compatible() that takes 2 matrices as input and only allows the dot product if the condition number of **columns** in the first matrix (A) matches the number of **rows** in the second matrix (B).\n",
        "\n",
        "Print the ouput if condition is satisfied\n",
        "Else print \"Dimension Error!!\"\n",
        "\n",
        "\n"
      ]
    },
    {
      "cell_type": "code",
      "execution_count": null,
      "metadata": {
        "id": "RmS0xS8tCjNC"
      },
      "outputs": [],
      "source": [
        "def is_compatible(A, B):\n",
        "  if A.shape[1] != B.shape[0]:\n",
        "        return False\n",
        "  else:\n",
        "      return True"
      ]
    },
    {
      "cell_type": "code",
      "execution_count": null,
      "metadata": {
        "id": "ds0XYSZ6E9nl"
      },
      "outputs": [],
      "source": [
        "# Find Dot product only if the matrices are compatible\n",
        "if is_compatible(A, B):\n",
        "     print(np.dot(A,B), np.dot(A,B).shape)\n",
        "else:\n",
        "     print(\"Dimension Error!\")"
      ]
    },
    {
      "cell_type": "markdown",
      "metadata": {
        "id": "SR_JeHeEdWOX"
      },
      "source": [
        "# **Task 2**\n",
        "\n",
        "Your goal is to define a function that simulates a number-guessing game called \"Up-Down.\" The function, named up_down, should take an integer rounds as input, representing the number of turns the player gets.\n",
        "\n",
        "Game Rules:\n",
        "\n",
        "1. The player inputs a number between 1 and 12 for each round.\n",
        "2. The computer randomly selects a number between 1 and 12.\n",
        "3. The scoring system is as follows:\n",
        "  \n",
        "  a. If computer's guess is less than 7 and the player gains points equivalent to their guess if their guess is also less than 7, otherwise, they lose points equivalent to their guess.\n",
        "  \n",
        "  b. If computer's guess is exactly 7, the player gains 14 points if thier guess is 7, otherwise, they lose points equivalent to their guess.\n",
        "  \n",
        "  c. If computer's guess is greater than 7 and the player gains points equivalent to their guess if their guess is also greater than 7, otherwise, they lose points equivalent to their guess.\n",
        "\n",
        "4. The game continues until:\n",
        "\n",
        "  a. The player reaches more than 30 points, they win.\n",
        "\n",
        "  b. The player reaches less than -30 points, they lose.\n",
        "\n",
        "  c. The maximum number of rounds is reached.\n",
        "  \n",
        "At the end of the game, the function should print the final score.\n",
        "\n",
        "Your task is to implement this function in Python using the given rules."
      ]
    },
    {
      "cell_type": "code",
      "execution_count": null,
      "metadata": {
        "id": "0fxnUDma7aPx"
      },
      "outputs": [],
      "source": [
        "def up_down(rounds):\n",
        "  rounds_left = rounds\n",
        "  player_score = 0\n",
        "  counter = 1\n",
        "  while(rounds_left != 0):\n",
        "    print(f\"Round {counter} (Rounds left: {rounds_left - 1})\")\n",
        "    player_guess = int(input(\"Choose a no. between 1 & 12: \"))\n",
        "    comp_guess = np.random.randint(1, 12)\n",
        "    \n",
        "    print(f\"Your guess: {player_guess}\", f\"My guess: {comp_guess}\")\n",
        "    \n",
        "    if comp_guess < 7:\n",
        "        if player_guess < 7:\n",
        "            player_score += player_guess\n",
        "        else:\n",
        "            player_score -= player_guess\n",
        "    elif comp_guess == 7:\n",
        "        if player_guess == 7:\n",
        "            player_score += 14\n",
        "        else:\n",
        "            player_score -= player_guess\n",
        "    elif comp_guess > 7:\n",
        "        if player_guess > 7:\n",
        "            player_score += player_guess\n",
        "        else:\n",
        "            player_score -= player_guess\n",
        "            \n",
        "    print(f\"Score: {player_score} \\n\")\n",
        "    \n",
        "    if player_score > 30:\n",
        "        print(\"You win!\")\n",
        "        break\n",
        "    elif player_score < -30:\n",
        "        print(\"You lose!\")\n",
        "        break\n",
        "    \n",
        "    rounds_left -= 1\n",
        "    counter += 1\n",
        "\n",
        "  print(\"Game Over\")"
      ]
    }
  ],
  "metadata": {
    "colab": {
      "provenance": []
    },
    "kernelspec": {
      "display_name": "Python 3",
      "name": "python3"
    },
    "language_info": {
      "name": "python",
      "version": "3.11.4"
    }
  },
  "nbformat": 4,
  "nbformat_minor": 0
}
